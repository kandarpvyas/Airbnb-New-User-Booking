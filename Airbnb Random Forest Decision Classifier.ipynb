{
 "cells": [
  {
   "cell_type": "markdown",
   "metadata": {},
   "source": [
    "# Predicting Destinations with the Airbnb Dataset using Random forest Classifier\n",
    "\n",
    "This notebook demonstrates the entire process of building a predictive model using Random forest to suggest the first destination of new Airbnb Users. All the processes involved, such as data wrangling, exploratory data analysis, inferential statistics."
   ]
  },
  {
   "cell_type": "code",
   "execution_count": 1,
   "metadata": {},
   "outputs": [],
   "source": [
    "import pandas as pd\n",
    "import numpy as np\n",
    "from random import randint\n",
    "from datetime import datetime\n",
    "from sklearn.preprocessing import LabelEncoder\n",
    "from sklearn.ensemble import RandomForestClassifier\n",
    "from sklearn.model_selection import train_test_split\n",
    "from sklearn.metrics import accuracy_score\n",
    "from sklearn.model_selection import cross_val_score\n",
    "from sklearn.metrics import confusion_matrix\n",
    "from sklearn.metrics import mean_absolute_error\n",
    "from sklearn.metrics import classification_report\n",
    "import os\n",
    "import matplotlib.pyplot as plt\n",
    "import time"
   ]
  },
  {
   "cell_type": "markdown",
   "metadata": {},
   "source": [
    "The first step is to load all the data available to us in a Pandas Dataframe and extract basic information such as number of samples, number of null values rows, number of features, etc. Here I have used Random forest classifier.\n",
    "\n",
    "The next step would be to deal with the missing values using a suitable method (dropping, interpolating, etc.) and convert certain features into a more suitable form for applying inferential statistics and machine learning algorithms."
   ]
  },
  {
   "cell_type": "code",
   "execution_count": 2,
   "metadata": {},
   "outputs": [],
   "source": [
    "def findNA(df):\n",
    "    df = df.replace(r'\\s+', np.nan, regex=True)\n",
    "    df = df.replace('-unknown-',np.nan, regex=False)\n",
    "    df = df.replace('Other/Unknown',np.nan, regex=False)\n",
    "    df = df.dropna(thresh=10) #Ignore the rows with majority Missing Value during Analysis\n",
    "    return df"
   ]
  },
  {
   "cell_type": "markdown",
   "metadata": {},
   "source": [
    "This function will remove '-unknown-' and 'Other/Unknown' values from the CSV file and return cleaned data frame.\n",
    "Here I have set thresh value to 10. It means that in a single row at least 10 N/A values are allowed. "
   ]
  },
  {
   "cell_type": "code",
   "execution_count": 3,
   "metadata": {},
   "outputs": [],
   "source": [
    "def encodeDate(df):\n",
    "    df['date_account_created']=pd.to_datetime(df['date_account_created']).dt.dayofweek\n",
    "    df['date_first_booking']=pd.to_datetime(df['date_first_booking']).dt.dayofweek\n",
    "    return df"
   ]
  },
  {
   "cell_type": "markdown",
   "metadata": {},
   "source": [
    "encodeDate function will extract day of week from date_account_created and date_first_booking columns."
   ]
  },
  {
   "cell_type": "code",
   "execution_count": 4,
   "metadata": {},
   "outputs": [],
   "source": [
    "def weightedRandomImputation(df):\n",
    "    for col in df:\n",
    "        nan_count=df[col].isnull().sum()\n",
    "        #print(\"nan_count=:::\"+nan_count)\n",
    "        if col=='age':\n",
    "            df=handleOutlierAge(df)\n",
    "            \n",
    "        # For parameters other then age, compute their missing value using stratified methodology of missing value imputation    \n",
    "        if nan_count>0 and col!='age': \n",
    "            df_counts=df[col].value_counts() #Count columnwise repeated value\n",
    "            Total_minus_unknown = 0\n",
    "            Total_minus_unknown = len(df[col]) - len(df_counts) #Get unknown value count in a column\n",
    "            ratio_list=[]\n",
    "            for i in range(len(df_counts)):\n",
    "                ratio_list.append(float(df_counts[i])*100/float(Total_minus_unknown))  #Multiplying actual value with 100 and diviving it with unknown value count\n",
    "            min_ratio = min(ratio_list)  #Finding minimum value from ration_List\n",
    "            ratio_list = [int(x/min_ratio) for x in ratio_list] #Divide actual value with min_ratio\n",
    "            counts_list=df_counts.index.tolist() #Convert Weight to list\n",
    "            pairs = list(zip(ratio_list,counts_list)) #merge Weight with new min_ratio value\n",
    "            df[col]=df[col].apply(lambda x: weightedRandomHelper(pairs) if(pd.isnull(x)) else x)\n",
    "            # Creating bins for signup_flow parameter\n",
    "        if col=='signup_flow': \n",
    "            bins = [-1,5,10,15,20,28]\n",
    "            group_names = [0,1,2,3,4]\n",
    "            df['signup_flow_bins'] = pd.cut(df['signup_flow'], bins, labels=group_names)\n",
    "    return df"
   ]
  },
  {
   "cell_type": "markdown",
   "metadata": {},
   "source": [
    "The function weightedRandomImputation() takes data frame as an argument and removes outliers from age column.\n",
    "For the columns other than age , if N/A value count is greater than zero then it will identify those values and replace it with the mean values.\n",
    "\n",
    "Here I have created bins for signup_flow column."
   ]
  },
  {
   "cell_type": "code",
   "execution_count": 5,
   "metadata": {},
   "outputs": [],
   "source": [
    "def weightedRandomHelper(pairs):  \n",
    "    total = sum(pair[0] for pair in pairs)\n",
    "    r = randint(1, total)\n",
    "    for (weight, value) in pairs:\n",
    "        r -= weight\n",
    "        if r <= 0: return value"
   ]
  },
  {
   "cell_type": "code",
   "execution_count": 6,
   "metadata": {},
   "outputs": [],
   "source": [
    "def handleOutlierAge(df):\n",
    "    df['age']=df['age'].apply(lambda x: datetime.now().year-x if x>1900 else x)\n",
    "    \n",
    "    #Valid age range between 14 to 90 as per data, otherwise check if its outlier or not\n",
    "    df['age']=df['age'].apply(lambda x: x if 14<=x<=90 else np.nan)     \n",
    "    mean = df['age'].mean()\n",
    "    mean = int(mean)\n",
    "    df['age']=df['age'].apply(lambda x: mean if np.isnan(x) else x) \n",
    "    return df"
   ]
  },
  {
   "cell_type": "markdown",
   "metadata": {},
   "source": [
    "This function will remove outliers from age column.Here I have taken valid age range is between 14 to 90"
   ]
  },
  {
   "cell_type": "code",
   "execution_count": 7,
   "metadata": {},
   "outputs": [],
   "source": [
    "def randomForestDecisionClassifier(df,df_test):\n",
    "    print(\"\\nLearning the Random Forest Classifier Model...\")\n",
    "    Y_train = df.country_destination\n",
    "    X_train = df.drop('country_destination', 1)\n",
    "    X_train = X_train.drop('id', 1)\n",
    "\n",
    "    #preprocess of test\n",
    "    Y_test = df_test.country_destination\n",
    "    X_test = df_test.drop('country_destination', 1)\n",
    "    X_test = X_test.drop('id', 1)\n",
    "\n",
    "    # encode Y train\n",
    "    le = LabelEncoder()\n",
    "    Y_train = le.fit_transform(Y_train)\n",
    "\n",
    "    X_train = X_train.apply(LabelEncoder().fit_transform) #Applying Label encoder to multiple columns of X_train dataset\n",
    "    X_test= X_test.apply(LabelEncoder().fit_transform) #Applying Label encoder to multiple columns of X_test dataset\n",
    "\n",
    "    # Encode Y Test \n",
    "    le_t = LabelEncoder()\n",
    "    Y_test = le_t.fit_transform(Y_test)\n",
    "    \n",
    "    #dropping below columns as they do not improve the accuracy based on clf.feature_importances_\n",
    "    X_train = X_train.drop('language', 1)\n",
    "    X_train = X_train.drop('signup_app', 1)\n",
    "    X_train = X_train.drop('signup_flow', 1)\n",
    "    X_train = X_train.drop('timestamp_first_active', 1)\n",
    "    \n",
    "    X_test = X_test.drop('language', 1)\n",
    "    X_test = X_test.drop('signup_app', 1)\n",
    "    X_test = X_test.drop('signup_flow', 1)\n",
    "    X_test = X_test.drop('timestamp_first_active', 1)\n",
    "\n",
    "    clf = RandomForestClassifier(max_features= 'auto', max_depth = 30, random_state=10, min_samples_split = 4, verbose =1, class_weight = 'balanced', oob_score =False, n_estimators = 20)\n",
    "    # n_estimators = 100 number of trees in the forest\n",
    "    \n",
    "    clf.fit(X_train, Y_train)\n",
    "#     print(\"Importance of the features : \",clf.feature_importances_)\n",
    "    \n",
    "#     x = [i for i in range(0,len(clf.feature_importances_))]\n",
    "#     plt.xticks(x, list(X_train))\n",
    "#     plt.plot(x, clf.feature_importances_,\"ro\")\n",
    "#     plt.plot(x, clf.feature_importances_)\n",
    "#     plt.xlabel(\"Features\")\n",
    "#     plt.ylabel(\"Relevance Factor\")\n",
    "#     plt.title(\"Relevance of the Features as per Random Forest Classifier Model\")\n",
    "#     plt.xticks(rotation='vertical')\n",
    "#     plt.show()\n",
    "    \n",
    "    Y_pred = clf.predict(X_test)\n",
    "    accuracy = clf.score(X_test, Y_test, sample_weight=None)\n",
    "    print (\"Accuracy using Random Forest Classifier is : %.2f%%\" % (accuracy * 100.0))\n",
    "    print(\"The confusion matrix is : \\n\",confusion_matrix(Y_test, Y_pred ))\n",
    "    #print(\"Mean Absolute error is :\",mean_absolute_error(Y_test, Y_pred ))\n",
    "    #print(\"Evaluation Metrics :\\n\",classification_report(Y_test, Y_pred ))\n"
   ]
  },
  {
   "cell_type": "code",
   "execution_count": 8,
   "metadata": {},
   "outputs": [
    {
     "name": "stdout",
     "output_type": "stream",
     "text": [
      "Doing Preprocessing\n",
      "Handling Missing Values\n"
     ]
    }
   ],
   "source": [
    "df = pd.read_csv('train_users_2.csv')   #load data\n",
    "\n",
    "print(\"Doing Preprocessing\")\n",
    "print(\"Handling Missing Values\")\n",
    "df = findNA(df)\n",
    "original_data  = df.copy()\n",
    "original_data=encodeDate(original_data)   #convert date to the day of the week with Monday=0, Sunday=6\n",
    "original_data=weightedRandomImputation(original_data) # Missing Value Imputation\n",
    "\n",
    "df,df_test = train_test_split( df, test_size=0.3, stratify=df['country_destination'])\n",
    "#This stratify parameter makes a split so that the proportion of values in the sample produced will be the same as the proportion of values provided to parameter stratify.\n",
    "#Here country_destination is a categorial variable\n",
    "\n",
    "\n",
    "df=encodeDate(df)   #convert date to the day of the week with Monday=0, Sunday=6\n",
    "df=weightedRandomImputation(df) # Missing Value Imputation\n",
    "\n",
    "#preprocess of test\n",
    "df_test = encodeDate(df_test)\n",
    "df_test = weightedRandomImputation(df_test)"
   ]
  },
  {
   "cell_type": "code",
   "execution_count": 9,
   "metadata": {},
   "outputs": [
    {
     "name": "stdout",
     "output_type": "stream",
     "text": [
      "\n",
      "Learning the Random Forest Classifier Model...\n"
     ]
    },
    {
     "name": "stderr",
     "output_type": "stream",
     "text": [
      "[Parallel(n_jobs=1)]: Done  20 out of  20 | elapsed:   14.3s finished\n",
      "[Parallel(n_jobs=1)]: Done  20 out of  20 | elapsed:    1.8s finished\n",
      "[Parallel(n_jobs=1)]: Done  20 out of  20 | elapsed:    2.0s finished\n"
     ]
    },
    {
     "name": "stdout",
     "output_type": "stream",
     "text": [
      "Accuracy using Random Forest Classifier is : 52.91%\n",
      "The confusion matrix is : \n",
      " [[    1     1     1     4     0     1     1    78     3     1    70     1]\n",
      " [    4     8     7    10    17     9    10   160     6     2   172    23]\n",
      " [    0     4     1     7     7     5     8   141     3     0   134     8]\n",
      " [    2    11     7     7    17    10    13   316     8     2   262    20]\n",
      " [   11    17    18    28    35    21    33   721    13     3   539    68]\n",
      " [    4    10     5    11    19    10     6   295     5     3   286    43]\n",
      " [    9    26    10    17    23    19     8   398    10     2   294    35]\n",
      " [  274   510   396   529   616   566   497 26245   386   121  6230   993]\n",
      " [    1     4     2     1     5     3     3    90     2     1   100    17]\n",
      " [    0     1     2     6     2     0     0    28     0     0    21     5]\n",
      " [  124   298   226   278   414   286   266  8296   214    35  7435   841]\n",
      " [   25    59    23    55    64    35    42  1410    33    10  1144   128]]\n"
     ]
    }
   ],
   "source": [
    "randomForestDecisionClassifier(df,df_test)"
   ]
  },
  {
   "cell_type": "markdown",
   "metadata": {},
   "source": [
    "By using Random Forest Classifier , model has achieved 56.83% accuracy."
   ]
  },
  {
   "cell_type": "markdown",
   "metadata": {},
   "source": [
    "References\n",
    "\n",
    "Repositories\n",
    "\n",
    "https://github.com/karvenka/kaggle-airbnb/blob/master/notebooks/Venkatesan_Karthick_Final_Project_Report.ipynb\n",
    "\n",
    "https://github.com/Sapphirine/Airbnb-New-User-Bookings-Prediction/blob/master/preprocessing%26prediction.ipynb\n",
    "\n",
    "https://github.com/Currie32/AirBnB-Predicting-Destination/blob/master/Predicting_Destination.ipynb\n",
    "\n",
    "Kaggle Competition\n",
    "\n",
    "https://www.kaggle.com/meicher/predicting-first-destination-4-models\n",
    "\n",
    "https://www.kaggle.com/svpons/three-level-classification-architecture"
   ]
  },
  {
   "cell_type": "markdown",
   "metadata": {},
   "source": [
    "The code in the document by Kandarp Vyas is licensed under the MIT License https://opensource.org/licenses/MIT"
   ]
  }
 ],
 "metadata": {
  "kernelspec": {
   "display_name": "Python 3",
   "language": "python",
   "name": "python3"
  },
  "language_info": {
   "codemirror_mode": {
    "name": "ipython",
    "version": 3
   },
   "file_extension": ".py",
   "mimetype": "text/x-python",
   "name": "python",
   "nbconvert_exporter": "python",
   "pygments_lexer": "ipython3",
   "version": "3.6.4"
  },
  "varInspector": {
   "cols": {
    "lenName": 16,
    "lenType": 16,
    "lenVar": 40
   },
   "kernels_config": {
    "python": {
     "delete_cmd_postfix": "",
     "delete_cmd_prefix": "del ",
     "library": "var_list.py",
     "varRefreshCmd": "print(var_dic_list())"
    },
    "r": {
     "delete_cmd_postfix": ") ",
     "delete_cmd_prefix": "rm(",
     "library": "var_list.r",
     "varRefreshCmd": "cat(var_dic_list()) "
    }
   },
   "types_to_exclude": [
    "module",
    "function",
    "builtin_function_or_method",
    "instance",
    "_Feature"
   ],
   "window_display": false
  }
 },
 "nbformat": 4,
 "nbformat_minor": 2
}
