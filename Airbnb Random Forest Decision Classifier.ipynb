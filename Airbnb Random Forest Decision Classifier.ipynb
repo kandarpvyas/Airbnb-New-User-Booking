{
 "cells": [
  {
   "cell_type": "markdown",
   "metadata": {},
   "source": [
    "# Predicting Destinations with the Airbnb Dataset using Random forest Classifier\n",
    "\n",
    "This notebook demonstrates the entire process of building a predictive model using Random forest to suggest the first destination of new Airbnb Users. All the processes involved, such as data wrangling, exploratory data analysis, inferential statistics."
   ]
  },
  {
   "cell_type": "code",
   "execution_count": 2,
   "metadata": {},
   "outputs": [],
   "source": [
    "import pandas as pd\n",
    "import numpy as np\n",
    "from random import randint\n",
    "from datetime import datetime\n",
    "from sklearn.preprocessing import LabelEncoder\n",
    "from sklearn.ensemble import RandomForestClassifier\n",
    "from sklearn.model_selection import train_test_split\n",
    "from sklearn.metrics import accuracy_score\n",
    "from sklearn.model_selection import cross_val_score\n",
    "from sklearn.metrics import confusion_matrix\n",
    "from sklearn.metrics import mean_absolute_error\n",
    "from sklearn.metrics import classification_report\n",
    "import os\n",
    "import matplotlib.pyplot as plt\n",
    "import time"
   ]
  },
  {
   "cell_type": "markdown",
   "metadata": {},
   "source": [
    "The first step is to load all the data available to us in a Pandas Dataframe and extract basic information such as number of samples, number of null values rows, number of features, etc. Here I have used Random forest classifier.\n",
    "\n",
    "The next step would be to deal with the missing values using a suitable method (dropping, interpolating, etc.) and convert certain features into a more suitable form for applying inferential statistics and machine learning algorithms."
   ]
  },
  {
   "cell_type": "code",
   "execution_count": 3,
   "metadata": {},
   "outputs": [],
   "source": [
    "def findNA(df):\n",
    "    df = df.replace(r'\\s+', np.nan, regex=True)\n",
    "    df = df.replace('-unknown-',np.nan, regex=False)\n",
    "    df = df.replace('Other/Unknown',np.nan, regex=False)\n",
    "    df = df.dropna(thresh=10) #Ignore the rows with majority Missing Value during Analysis\n",
    "    return df"
   ]
  },
  {
   "cell_type": "markdown",
   "metadata": {},
   "source": [
    "This function will remove '-unknown-' and 'Other/Unknown' values from the CSV file and return cleaned data frame.\n",
    "Here I have set thresh value to 10. It means that in a single row at least 10 N/A values are allowed. "
   ]
  },
  {
   "cell_type": "code",
   "execution_count": 5,
   "metadata": {},
   "outputs": [],
   "source": [
    "def encodeDate(df):\n",
    "    df['date_account_created']=pd.to_datetime(df['date_account_created']).dt.dayofweek\n",
    "    df['date_first_booking']=pd.to_datetime(df['date_first_booking']).dt.dayofweek\n",
    "    return df"
   ]
  },
  {
   "cell_type": "markdown",
   "metadata": {},
   "source": [
    "encodeDate function will extract day of week from date_account_created and date_first_booking columns."
   ]
  },
  {
   "cell_type": "code",
   "execution_count": 6,
   "metadata": {},
   "outputs": [],
   "source": [
    "def weightedRandomImputation(df):\n",
    "    for col in df:\n",
    "        nan_count=df[col].isnull().sum()\n",
    "        if col=='age':\n",
    "            df=handleOutlierAge(df)\n",
    "            \n",
    "        # For parameters other then age, compute their missing value using stratified methodology of missing value imputation    \n",
    "        if nan_count>0 and col!='age': \n",
    "            df_counts=df[col].value_counts()\n",
    "            Total_minus_unknown = 0\n",
    "            Total_minus_unknown = len(df[col]) - len(df_counts)\n",
    "            ratio_list=[]\n",
    "            for i in range(len(df_counts)):\n",
    "                ratio_list.append(float(df_counts[i])*100/float(Total_minus_unknown))\n",
    "            min_ratio = min(ratio_list)\n",
    "            ratio_list = [int(x/min_ratio) for x in ratio_list]\n",
    "            counts_list=df_counts.index.tolist()\n",
    "            pairs = list(zip(ratio_list,counts_list))\n",
    "            df[col]=df[col].apply(lambda x: weightedRandomHelper(pairs) if(pd.isnull(x)) else x)\n",
    "\n",
    "        # Creating bins for signup_flow parameter\n",
    "        if col=='signup_flow': \n",
    "            bins = [-1,5,10,15,20,28]\n",
    "            group_names = [0,1,2,3,4]\n",
    "            df['signup_flow_bins'] = pd.cut(df['signup_flow'], bins, labels=group_names)\n",
    "\n",
    "    return df\n"
   ]
  },
  {
   "cell_type": "markdown",
   "metadata": {},
   "source": [
    "The function weightedRandomImputation() takes data frame as an argument and removes outliers from age column.\n",
    "For the columns other than age , if N/A value count is greater than zero then it will identify those values and replace it with the mean values.\n",
    "\n",
    "Here I have created bins for signup_flow column."
   ]
  },
  {
   "cell_type": "code",
   "execution_count": 7,
   "metadata": {},
   "outputs": [],
   "source": [
    "def weightedRandomHelper(pairs):  \n",
    "    total = sum(pair[0] for pair in pairs)\n",
    "    r = randint(1, total)\n",
    "    for (weight, value) in pairs:\n",
    "        r -= weight\n",
    "        if r <= 0: return value"
   ]
  },
  {
   "cell_type": "code",
   "execution_count": 8,
   "metadata": {},
   "outputs": [],
   "source": [
    "def handleOutlierAge(df):\n",
    "    df['age']=df['age'].apply(lambda x: datetime.now().year-x if x>1900 else x)\n",
    "    \n",
    "    #Valid age range between 14 to 90 as per data, otherwise check if its outlier or not\n",
    "    df['age']=df['age'].apply(lambda x: x if 14<=x<=90 else np.nan)     \n",
    "    mean = df['age'].mean()\n",
    "    mean = int(mean)\n",
    "    df['age']=df['age'].apply(lambda x: mean if np.isnan(x) else x) \n",
    "    return df"
   ]
  },
  {
   "cell_type": "markdown",
   "metadata": {},
   "source": [
    "This function will remove outliers from age column.Here I have taken valid age range is between 14 to 90"
   ]
  },
  {
   "cell_type": "code",
   "execution_count": 17,
   "metadata": {},
   "outputs": [],
   "source": [
    "def randomForestDecisionClassifier(df,df_test):\n",
    "    print(\"\\nLearning the Random Forest Classifier Model...\")\n",
    "    Y_train = df.country_destination\n",
    "    X_train = df.drop('country_destination', 1)\n",
    "    X_train = X_train.drop('id', 1)\n",
    "\n",
    "    #preprocess of test\n",
    "    Y_test = df_test.country_destination\n",
    "    X_test = df_test.drop('country_destination', 1)\n",
    "    X_test = X_test.drop('id', 1)\n",
    "\n",
    "    # encode Y train\n",
    "    le = LabelEncoder()\n",
    "    Y_train = le.fit_transform(Y_train)\n",
    "\n",
    "    X_train = X_train.apply(LabelEncoder().fit_transform)\n",
    "    X_test= X_test.apply(LabelEncoder().fit_transform)\n",
    "\n",
    "    # Encode Y Test \n",
    "    le_t = LabelEncoder()\n",
    "    Y_test = le_t.fit_transform(Y_test)\n",
    "    \n",
    "    #dropping below columns as they do not improve the accuracy based on clf.feature_importances_\n",
    "    X_train = X_train.drop('language', 1)\n",
    "    X_train = X_train.drop('signup_app', 1)\n",
    "    X_train = X_train.drop('signup_flow', 1)\n",
    "    X_train = X_train.drop('timestamp_first_active', 1)\n",
    "    X_test = X_test.drop('language', 1)\n",
    "    X_test = X_test.drop('signup_app', 1)\n",
    "    X_test = X_test.drop('signup_flow', 1)\n",
    "    X_test = X_test.drop('timestamp_first_active', 1)\n",
    "\n",
    "    clf = RandomForestClassifier(max_features= 'auto', max_depth = 20, random_state=10, min_samples_split = 4, verbose =1, class_weight = 'balanced', oob_score =False, n_estimators = 100)\n",
    "\n",
    "    clf.fit(X_train, Y_train)\n",
    "    print(\"Importance of the features : \",clf.feature_importances_)\n",
    "    \n",
    "    x = [i for i in range(0,len(clf.feature_importances_))]\n",
    "    plt.xticks(x, list(X_train))\n",
    "    plt.plot(x, clf.feature_importances_,\"ro\")\n",
    "    plt.plot(x, clf.feature_importances_)\n",
    "    plt.xlabel(\"Features\")\n",
    "    plt.ylabel(\"Relevance Factor\")\n",
    "    plt.title(\"Relevance of the Features as per Random Forest Classifier Model\")\n",
    "    plt.xticks(rotation='vertical')\n",
    "    plt.show()\n",
    "    \n",
    "    Y_pred = clf.predict(X_test)\n",
    "    accuracy = clf.score(X_test, Y_test, sample_weight=None)\n",
    "    print (\"Accuracy using Random Forest Classifier is : %.2f%%\" % (accuracy * 100.0))\n",
    "    print(\"The confusion matrix is : \\n\",confusion_matrix(Y_test, Y_pred ))\n",
    "    print(\"Mean Absolute error is :\",mean_absolute_error(Y_test, Y_pred ))\n",
    "    print(\"Evaluation Metrics :\\n\",classification_report(Y_test, Y_pred ))\n"
   ]
  },
  {
   "cell_type": "code",
   "execution_count": 18,
   "metadata": {},
   "outputs": [
    {
     "name": "stdout",
     "output_type": "stream",
     "text": [
      "Doing Preprocessing\n",
      "Handling Missing Values\n"
     ]
    }
   ],
   "source": [
    "df = pd.read_csv('train_users_2.csv')   #load data\n",
    "\n",
    "print(\"Doing Preprocessing\")\n",
    "print(\"Handling Missing Values\")\n",
    "df = findNA(df)\n",
    "original_data  = df.copy()\n",
    "original_data=encodeDate(original_data)   #convert date to the day of the week with Monday=0, Sunday=6\n",
    "original_data=weightedRandomImputation(original_data) # Missing Value Imputation\n",
    "\n",
    "df,df_test = train_test_split( df, test_size=0.3, stratify=df['country_destination'])\n",
    "\n",
    "df=encodeDate(df)   #convert date to the day of the week with Monday=0, Sunday=6\n",
    "df=weightedRandomImputation(df) # Missing Value Imputation\n",
    "\n",
    "#preprocess of test\n",
    "df_test = encodeDate(df_test)\n",
    "df_test = weightedRandomImputation(df_test)"
   ]
  },
  {
   "cell_type": "code",
   "execution_count": 19,
   "metadata": {},
   "outputs": [
    {
     "name": "stdout",
     "output_type": "stream",
     "text": [
      "\n",
      "Learning the Random Forest Classifier Model...\n"
     ]
    },
    {
     "name": "stderr",
     "output_type": "stream",
     "text": [
      "[Parallel(n_jobs=1)]: Done 100 out of 100 | elapsed:   58.6s finished\n"
     ]
    },
    {
     "name": "stdout",
     "output_type": "stream",
     "text": [
      "Importance of the features :  [0.16904641 0.15851817 0.04869293 0.25056087 0.03709973 0.05671182\n",
      " 0.03785705 0.07777177 0.0491008  0.10043053 0.01420991]\n"
     ]
    },
    {
     "data": {
      "image/png": "[encoded data removed]",
      "text/plain": [
       "<matplotlib.figure.Figure at 0x1a4debe0c50>"
      ]
     },
     "metadata": {},
     "output_type": "display_data"
    },
    {
     "name": "stderr",
     "output_type": "stream",
     "text": [
      "[Parallel(n_jobs=1)]: Done 100 out of 100 | elapsed:    8.3s finished\n",
      "[Parallel(n_jobs=1)]: Done 100 out of 100 | elapsed:    9.8s finished\n"
     ]
    },
    {
     "name": "stdout",
     "output_type": "stream",
     "text": [
      "Accuracy using Random Forest Classifier is : 56.83%\n",
      "The confusion matrix is : \n",
      " [[    0     1     0     2     3     3     2    74     4     1    68     4]\n",
      " [    1     4     7     5     6     6    11   186     6     1   179    16]\n",
      " [    0     4     2     2     4     3     4   148     2     2   133    14]\n",
      " [    7     4     5     6    19     9    13   324     4     2   266    16]\n",
      " [   10    18    17    24    20    19    24   728    10     6   578    53]\n",
      " [    5     6     6     9    11     9    11   349     7     0   261    23]\n",
      " [   10    12    10    13    11     4    10   424     6     2   326    23]\n",
      " [  193   303   276   325   353   330   327 28246   203   109  5958   740]\n",
      " [    2     3     1     3     3     5     2   106     1     0    89    14]\n",
      " [    0     0     0     1     0     5     3    30     0     0    25     1]\n",
      " [  100   221   203   240   288   220   241  8363   146    53  7984   654]\n",
      " [   13    43    25    48    40    34    33  1483    33    12  1153   111]]\n",
      "Mean Absolute error is : 1.4893185083390592\n",
      "Evaluation Metrics :\n",
      "              precision    recall  f1-score   support\n",
      "\n",
      "          0       0.00      0.00      0.00       162\n",
      "          1       0.01      0.01      0.01       428\n",
      "          2       0.00      0.01      0.00       318\n",
      "          3       0.01      0.01      0.01       675\n",
      "          4       0.03      0.01      0.02      1507\n",
      "          5       0.01      0.01      0.01       697\n",
      "          6       0.01      0.01      0.01       851\n",
      "          7       0.70      0.76      0.73     37363\n",
      "          8       0.00      0.00      0.00       229\n",
      "          9       0.00      0.00      0.00        65\n",
      "         10       0.47      0.43      0.45     18713\n",
      "         11       0.07      0.04      0.05      3028\n",
      "\n",
      "avg / total       0.55      0.57      0.56     64036\n",
      "\n"
     ]
    }
   ],
   "source": [
    "randomForestDecisionClassifier(df,df_test)"
   ]
  },
  {
   "cell_type": "markdown",
   "metadata": {},
   "source": [
    "By using Random Forest Classifier , model has achieved 56.83% accuracy."
   ]
  },
  {
   "cell_type": "markdown",
   "metadata": {},
   "source": [
    "References\n",
    "\n",
    "Repositories\n",
    "\n",
    "https://github.com/karvenka/kaggle-airbnb/blob/master/notebooks/Venkatesan_Karthick_Final_Project_Report.ipynb\n",
    "\n",
    "https://github.com/Sapphirine/Airbnb-New-User-Bookings-Prediction/blob/master/preprocessing%26prediction.ipynb\n",
    "\n",
    "https://github.com/Currie32/AirBnB-Predicting-Destination/blob/master/Predicting_Destination.ipynb\n",
    "\n",
    "Kaggle Competition\n",
    "\n",
    "https://www.kaggle.com/meicher/predicting-first-destination-4-models\n",
    "\n",
    "https://www.kaggle.com/svpons/three-level-classification-architecture"
   ]
  },
  {
   "cell_type": "markdown",
   "metadata": {},
   "source": [
    "The code in the document by Kandarp Vyas is licensed under the MIT License https://opensource.org/licenses/MIT"
   ]
  }
 ],
 "metadata": {
  "kernelspec": {
   "display_name": "Python 3",
   "language": "python",
   "name": "python3"
  },
  "language_info": {
   "codemirror_mode": {
    "name": "ipython",
    "version": 3
   },
   "file_extension": ".py",
   "mimetype": "text/x-python",
   "name": "python",
   "nbconvert_exporter": "python",
   "pygments_lexer": "ipython3",
   "version": "3.6.4"
  },
  "varInspector": {
   "cols": {
    "lenName": 16,
    "lenType": 16,
    "lenVar": 40
   },
   "kernels_config": {
    "python": {
     "delete_cmd_postfix": "",
     "delete_cmd_prefix": "del ",
     "library": "var_list.py",
     "varRefreshCmd": "print(var_dic_list())"
    },
    "r": {
     "delete_cmd_postfix": ") ",
     "delete_cmd_prefix": "rm(",
     "library": "var_list.r",
     "varRefreshCmd": "cat(var_dic_list()) "
    }
   },
   "types_to_exclude": [
    "module",
    "function",
    "builtin_function_or_method",
    "instance",
    "_Feature"
   ],
   "window_display": false
  }
 },
 "nbformat": 4,
 "nbformat_minor": 2
}
