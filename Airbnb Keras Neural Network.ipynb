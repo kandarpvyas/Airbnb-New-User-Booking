{
 "cells": [
  {
   "cell_type": "markdown",
   "metadata": {},
   "source": [
    "# Keras Neural Network\n",
    "\n",
    "This notebook demonstrates the entire process of building a predictive model using Keras sequential model to suggest the first destination of new Airbnb Users. All the processes involved, such as data wrangling, exploratory data analysis, inferential statistics."
   ]
  },
  {
   "cell_type": "code",
   "execution_count": 1,
   "metadata": {},
   "outputs": [
    {
     "name": "stderr",
     "output_type": "stream",
     "text": [
      "C:\\Users\\kanda\\Anaconda3\\lib\\site-packages\\h5py\\__init__.py:36: FutureWarning: Conversion of the second argument of issubdtype from `float` to `np.floating` is deprecated. In future, it will be treated as `np.float64 == np.dtype(float).type`.\n",
      "  from ._conv import register_converters as _register_converters\n",
      "Using TensorFlow backend.\n"
     ]
    }
   ],
   "source": [
    "import pandas as pd\n",
    "import numpy as np\n",
    "from random import randint\n",
    "from datetime import datetime\n",
    "from sklearn.preprocessing import LabelEncoder\n",
    "from sklearn.model_selection import train_test_split\n",
    "from sklearn.metrics import accuracy_score\n",
    "from sklearn.model_selection import cross_val_score\n",
    "from sklearn.metrics import confusion_matrix\n",
    "from sklearn.metrics import mean_absolute_error\n",
    "from sklearn.metrics import classification_report\n",
    "import os\n",
    "import matplotlib.pyplot as plt\n",
    "import time\n",
    "from keras.models import Sequential\n",
    "from keras.layers import Dense\n",
    "from keras.layers.advanced_activations import LeakyReLU\n",
    "from keras.wrappers.scikit_learn import KerasClassifier\n",
    "from keras.utils import np_utils"
   ]
  },
  {
   "cell_type": "markdown",
   "metadata": {},
   "source": [
    "The first step is to load all the data available to us in a Pandas Dataframe and extract basic information such as number of samples, number of null values rows, number of features, etc. Here I have used Keras and Tensorflow as a backend.\n",
    "\n",
    "The next step would be to deal with the missing values using a suitable method (dropping, interpolating, etc.) and convert certain features into a more suitable form for applying inferential statistics and machine learning algorithms."
   ]
  },
  {
   "cell_type": "code",
   "execution_count": 2,
   "metadata": {},
   "outputs": [],
   "source": [
    "def findNA(df):\n",
    "    df = df.replace(r'\\s+', np.nan, regex=True)\n",
    "    df = df.replace('-unknown-',np.nan, regex=False)\n",
    "    df = df.replace('Other/Unknown',np.nan, regex=False)\n",
    "    df = df.dropna(thresh=10) #Ignore the rows with majority Missing Value during Analysis\n",
    "    return df"
   ]
  },
  {
   "cell_type": "markdown",
   "metadata": {},
   "source": [
    "This function will remove '-unknown-' and 'Other/Unknown' values from the CSV file and return cleaned data frame.\n",
    "Here I have set thresh value to 10. It means that in a single row at least 10 N/A values are allowed. "
   ]
  },
  {
   "cell_type": "code",
   "execution_count": 3,
   "metadata": {},
   "outputs": [],
   "source": [
    "def encodeDate(df):\n",
    "    df['date_account_created']=pd.to_datetime(df['date_account_created']).dt.dayofweek\n",
    "    df['date_first_booking']=pd.to_datetime(df['date_first_booking']).dt.dayofweek\n",
    "    return df"
   ]
  },
  {
   "cell_type": "markdown",
   "metadata": {},
   "source": [
    "encodeDate function will extract day of week from date_account_created and date_first_booking columns."
   ]
  },
  {
   "cell_type": "code",
   "execution_count": 4,
   "metadata": {},
   "outputs": [],
   "source": [
    "def weightedRandomImputation(df):\n",
    "    for col in df:\n",
    "        nan_count=df[col].isnull().sum()\n",
    "        if col=='age':\n",
    "            df=handleOutlierAge(df)\n",
    "            \n",
    "        # For parameters other then age, compute their missing value using stratified methodology of missing value imputation    \n",
    "        if nan_count>0 and col!='age': \n",
    "            df_counts=df[col].value_counts()\n",
    "            Total_minus_unknown = 0\n",
    "            Total_minus_unknown = len(df[col]) - len(df_counts)\n",
    "            ratio_list=[]\n",
    "            for i in range(len(df_counts)):\n",
    "                ratio_list.append(float(df_counts[i])*100/float(Total_minus_unknown))\n",
    "            min_ratio = min(ratio_list)\n",
    "            ratio_list = [int(x/min_ratio) for x in ratio_list]\n",
    "            counts_list=df_counts.index.tolist()\n",
    "            pairs = list(zip(ratio_list,counts_list))\n",
    "            df[col]=df[col].apply(lambda x: weightedRandomHelper(pairs) if(pd.isnull(x)) else x)\n",
    "\n",
    "        # Creating bins for signup_flow parameter\n",
    "        if col=='signup_flow': \n",
    "            bins = [-1,5,10,15,20,28]\n",
    "            group_names = [0,1,2,3,4]\n",
    "            df['signup_flow_bins'] = pd.cut(df['signup_flow'], bins, labels=group_names)\n",
    "\n",
    "    return df\n"
   ]
  },
  {
   "cell_type": "markdown",
   "metadata": {},
   "source": [
    "The function weightedRandomImputation() takes data frame as an argument and removes outliers from age column.\n",
    "For the columns other than age , if N/A value count is greater than zero then it will identify those values and replace it with the mean values.\n",
    "\n",
    "Here I have created bins for signup_flow column."
   ]
  },
  {
   "cell_type": "code",
   "execution_count": 5,
   "metadata": {},
   "outputs": [],
   "source": [
    "def weightedRandomHelper(pairs):  \n",
    "    total = sum(pair[0] for pair in pairs)\n",
    "    r = randint(1, total)\n",
    "    for (weight, value) in pairs:\n",
    "        r -= weight\n",
    "        if r <= 0: return value"
   ]
  },
  {
   "cell_type": "code",
   "execution_count": 6,
   "metadata": {},
   "outputs": [],
   "source": [
    "def handleOutlierAge(df):\n",
    "    df['age']=df['age'].apply(lambda x: datetime.now().year-x if x>1900 else x)\n",
    "    \n",
    "    #Valid age range between 14 to 90 as per data, otherwise check if its outlier or not\n",
    "    df['age']=df['age'].apply(lambda x: x if 14<=x<=90 else np.nan)     \n",
    "    mean = df['age'].mean()\n",
    "    mean = int(mean)\n",
    "    df['age']=df['age'].apply(lambda x: mean if np.isnan(x) else x) \n",
    "    return df"
   ]
  },
  {
   "cell_type": "markdown",
   "metadata": {},
   "source": [
    "This function will remove outliers from age column.Here I have taken valid age range is between 14 to 90"
   ]
  },
  {
   "cell_type": "code",
   "execution_count": 7,
   "metadata": {},
   "outputs": [
    {
     "name": "stdout",
     "output_type": "stream",
     "text": [
      "Doing Preprocessing\n",
      "Handling Missing Values\n"
     ]
    }
   ],
   "source": [
    "df = pd.read_csv('train_users_2.csv')   #load data\n",
    "\n",
    "print(\"Doing Preprocessing\")\n",
    "print(\"Handling Missing Values\")\n",
    "df = findNA(df)\n",
    "original_data  = df.copy()\n",
    "original_data=encodeDate(original_data)   #convert date to the day of the week with Monday=0, Sunday=6\n",
    "original_data=weightedRandomImputation(original_data) # Missing Value Imputation\n",
    "\n",
    "df,df_test = train_test_split( df, test_size=0.3, stratify=df['country_destination'])\n",
    "\n",
    "df=encodeDate(df)   #convert date to the day of the week with Monday=0, Sunday=6\n",
    "df=weightedRandomImputation(df) # Missing Value Imputation\n",
    "\n",
    "#preprocess of test\n",
    "df_test = encodeDate(df_test)\n",
    "df_test = weightedRandomImputation(df_test)"
   ]
  },
  {
   "cell_type": "code",
   "execution_count": 8,
   "metadata": {},
   "outputs": [],
   "source": [
    "def ANN(df,df_test):\n",
    "\n",
    "    print(\"\\nLearning the Keras Neural Network Classifier Model...\")\n",
    "    Y_train = df.country_destination\n",
    "    X_train = df.drop('country_destination', 1)\n",
    "    X_train = X_train.drop('id', 1)\n",
    "\n",
    "    #preprocess of test\n",
    "    Y_test = df_test.country_destination\n",
    "    X_test = df_test.drop('country_destination', 1)\n",
    "    X_test = X_test.drop('id', 1)\n",
    "\n",
    "    # encode Y train\n",
    "    le = LabelEncoder()\n",
    "    Y_train = le.fit_transform(Y_train)\n",
    "\n",
    "    # Encode Y Test \n",
    "    le_t = LabelEncoder()\n",
    "    Y_test = le_t.fit_transform(Y_test)\n",
    "\n",
    "    #dropping columns as they dont improve accuracy\n",
    "    X_train = X_train.drop('timestamp_first_active', 1)\n",
    "    X_train = X_train.drop('language', 1)\n",
    "    X_train = X_train.drop('signup_app', 1)\n",
    "    X_test = X_test.drop('timestamp_first_active', 1)\n",
    "    X_test = X_test.drop('language', 1)\n",
    "    X_test = X_test.drop('signup_app', 1)\n",
    "\n",
    "    # encode class values as integers\n",
    "    encoder = LabelEncoder()\n",
    "    encoder.fit(Y_train)\n",
    "    encoded_Y = encoder.transform(Y_train)\n",
    "    print(encoded_Y)\n",
    "    # convert integers to dummy variables (i.e. one hot encoded)\n",
    "    Y_train = pd.DataFrame(np_utils.to_categorical(encoded_Y))\n",
    "\n",
    "    encoder = LabelEncoder()\n",
    "    encoder.fit(Y_test)\n",
    "    encoded_Y = encoder.transform(Y_test)\n",
    "    print(encoded_Y)\n",
    "    # convert integers to dummy variables (i.e. one hot encoded)\n",
    "    Y_test = pd.DataFrame(np_utils.to_categorical(encoded_Y))\n",
    "    \n",
    "    df_encoded = pd.DataFrame(index=range(1,len(X_train)))    \n",
    "    train = pd.concat([X_train, X_test])\n",
    "\n",
    "    for col in train:\n",
    "        if col=='age': \n",
    "            bins = [13,20,30,40,50,60,70,80,91]\n",
    "            group_names = [0,1,2,3,4,5,6,7]\n",
    "            train['age_bins'] = pd.cut(train['age'], bins, labels=group_names)\n",
    "            train=train.drop('age',1)\n",
    "            col = 'age_bins'\n",
    "        encoder = LabelEncoder()\n",
    "        encoder.fit(train[col])\n",
    "        encoded_Col = encoder.transform(train[col])\n",
    "        df_encoded = pd.concat([df_encoded,pd.DataFrame(np_utils.to_categorical(encoded_Col))],axis=1)\n",
    "    # create model\n",
    "    model = Sequential()\n",
    "    model.add(Dense(12, input_dim=len(df_encoded.columns), activation='relu'))\n",
    "    model.add(Dense(12, activation='relu'))\n",
    "    model.add(Dense(12, activation='relu'))\n",
    "    # Compile model\n",
    "    model.compile(loss='categorical_crossentropy', optimizer='adam', metrics=['accuracy'])\n",
    "    #model.compile(loss='mean_squared_error', optimizer='sgd', metrics=['accuracy'])\n",
    "    history = model.fit(df_encoded.values[:len(X_train)], Y_train.values, epochs=15, batch_size=1000)\n",
    "    scores = model.evaluate(df_encoded.values[:len(X_train)], Y_train.values)\n",
    "    print(\"\\nTraining Score: %.2f\" % (scores[1]*100))\n",
    "    scores = model.evaluate(df_encoded.values[len(X_train):], Y_test.values)\n",
    "    print(\"\\nTesting Score: %.2f\" % (scores[1]*100))\n",
    "\n",
    "    Y_pred = model.predict(df_encoded.values[len(X_train):])\n",
    "    print(\"The confusion matrix is : \\n\",confusion_matrix(Y_test.values.argmax(axis=1), Y_pred.argmax(axis=1)))\n",
    "    print(\"Mean Absolute error is :\",mean_absolute_error(Y_test.values.argmax(axis=1), Y_pred.argmax(axis=1)))\n",
    "    print(\"Evaluation Metrics : \\n\",classification_report(Y_test.values.argmax(axis=1), Y_pred.argmax(axis=1)))"
   ]
  },
  {
   "cell_type": "markdown",
   "metadata": {},
   "source": [
    "Here I have used Sequential Keras model.There are three layers and in each layer activation function is ReLu.\n",
    "\n",
    "By using Cross-Entropy cost and ADAM optimizer , model has achieved training score and testing score accuracy 58.35% ."
   ]
  },
  {
   "cell_type": "code",
   "execution_count": 9,
   "metadata": {},
   "outputs": [
    {
     "name": "stdout",
     "output_type": "stream",
     "text": [
      "\n",
      "Learning the Recurrent Neural Network Classifier Model...\n",
      "[10  7 11 ...  7 11 11]\n",
      "[10  7 10 ... 11  1  7]\n",
      "Epoch 1/15\n",
      "149415/149415 [==============================] - 4s 27us/step - loss: 2.9804 - acc: 0.4393\n",
      "Epoch 2/15\n",
      "149415/149415 [==============================] - 3s 22us/step - loss: 1.8039 - acc: 0.5573\n",
      "Epoch 3/15\n",
      "149415/149415 [==============================] - 3s 22us/step - loss: 1.7029 - acc: 0.5805\n",
      "Epoch 4/15\n",
      "149415/149415 [==============================] - 3s 22us/step - loss: 1.6371 - acc: 0.5849\n",
      "Epoch 5/15\n",
      "149415/149415 [==============================] - 3s 23us/step - loss: 1.5957 - acc: 0.5846\n",
      "Epoch 6/15\n",
      "149415/149415 [==============================] - 3s 22us/step - loss: 1.5866 - acc: 0.5837\n",
      "Epoch 7/15\n",
      "149415/149415 [==============================] - 4s 24us/step - loss: 1.5508 - acc: 0.5835\n",
      "Epoch 8/15\n",
      "149415/149415 [==============================] - 4s 24us/step - loss: 1.5050 - acc: 0.5836\n",
      "Epoch 9/15\n",
      "149415/149415 [==============================] - 4s 25us/step - loss: 1.4861 - acc: 0.5835\n",
      "Epoch 10/15\n",
      "149415/149415 [==============================] - 3s 22us/step - loss: 1.4697 - acc: 0.5840\n",
      "Epoch 11/15\n",
      "149415/149415 [==============================] - 3s 22us/step - loss: 1.4478 - acc: 0.5837\n",
      "Epoch 12/15\n",
      "149415/149415 [==============================] - 3s 22us/step - loss: 1.4383 - acc: 0.5836\n",
      "Epoch 13/15\n",
      "149415/149415 [==============================] - 3s 21us/step - loss: 1.4352 - acc: 0.5837\n",
      "Epoch 14/15\n",
      "149415/149415 [==============================] - 3s 21us/step - loss: 1.4220 - acc: 0.5838\n",
      "Epoch 15/15\n",
      "149415/149415 [==============================] - 3s 21us/step - loss: 1.4186 - acc: 0.5839\n",
      "149415/149415 [==============================] - 12s 80us/step\n",
      "\n",
      "Training Score: 58.38\n",
      "64036/64036 [==============================] - 5s 76us/step\n",
      "\n",
      "Testing Score: 58.39\n",
      "The confusion matrix is : \n",
      " [[    0     0     0     0     0     0     0   162     0     0     0     0]\n",
      " [    0     0     0     0     0     0     0   427     0     0     1     0]\n",
      " [    0     0     0     0     0     0     0   318     0     0     0     0]\n",
      " [    0     0     0     0     0     0     0   673     0     0     2     0]\n",
      " [    0     0     0     0     0     0     0  1505     0     0     2     0]\n",
      " [    0     0     0     0     0     0     0   695     0     0     2     0]\n",
      " [    0     0     0     0     0     0     0   851     0     0     0     0]\n",
      " [    0     0     0     0     0     0     0 37349     0     0    14     0]\n",
      " [    0     0     0     0     0     0     0   228     0     0     1     0]\n",
      " [    0     0     0     0     0     0     0    65     0     0     0     0]\n",
      " [    0     0     0     0     0     0     0 18674     0     0    39     0]\n",
      " [    0     0     0     0     0     0     0  3024     0     0     4     0]]\n",
      "Mean Absolute error is : 1.3008776313323756\n",
      "Evaluation Metrics : \n",
      "              precision    recall  f1-score   support\n",
      "\n",
      "          0       0.00      0.00      0.00       162\n",
      "          1       0.00      0.00      0.00       428\n",
      "          2       0.00      0.00      0.00       318\n",
      "          3       0.00      0.00      0.00       675\n",
      "          4       0.00      0.00      0.00      1507\n",
      "          5       0.00      0.00      0.00       697\n",
      "          6       0.00      0.00      0.00       851\n",
      "          7       0.58      1.00      0.74     37363\n",
      "          8       0.00      0.00      0.00       229\n",
      "          9       0.00      0.00      0.00        65\n",
      "         10       0.60      0.00      0.00     18713\n",
      "         11       0.00      0.00      0.00      3028\n",
      "\n",
      "avg / total       0.52      0.58      0.43     64036\n",
      "\n"
     ]
    },
    {
     "name": "stderr",
     "output_type": "stream",
     "text": [
      "C:\\Users\\kanda\\Anaconda3\\lib\\site-packages\\sklearn\\metrics\\classification.py:1135: UndefinedMetricWarning: Precision and F-score are ill-defined and being set to 0.0 in labels with no predicted samples.\n",
      "  'precision', 'predicted', average, warn_for)\n"
     ]
    }
   ],
   "source": [
    "ANN(df,df_test)"
   ]
  },
  {
   "cell_type": "markdown",
   "metadata": {},
   "source": [
    "References\n",
    "\n",
    "Repositories\n",
    "\n",
    "https://github.com/karvenka/kaggle-airbnb/blob/master/notebooks/Venkatesan_Karthick_Final_Project_Report.ipynb\n",
    "\n",
    "https://github.com/Sapphirine/Airbnb-New-User-Bookings-Prediction/blob/master/preprocessing%26prediction.ipynb\n",
    "\n",
    "https://github.com/Currie32/AirBnB-Predicting-Destination/blob/master/Predicting_Destination.ipynb\n",
    "\n",
    "Kaggle Competition\n",
    "\n",
    "https://www.kaggle.com/meicher/predicting-first-destination-4-models\n",
    "\n",
    "https://www.kaggle.com/svpons/three-level-classification-architecture"
   ]
  },
  {
   "cell_type": "markdown",
   "metadata": {},
   "source": [
    "The code in the document by Kandarp Vyas is licensed under the MIT License https://opensource.org/licenses/MIT"
   ]
  }
 ],
 "metadata": {
  "kernelspec": {
   "display_name": "Python 3",
   "language": "python",
   "name": "python3"
  },
  "language_info": {
   "codemirror_mode": {
    "name": "ipython",
    "version": 3
   },
   "file_extension": ".py",
   "mimetype": "text/x-python",
   "name": "python",
   "nbconvert_exporter": "python",
   "pygments_lexer": "ipython3",
   "version": "3.6.4"
  },
  "varInspector": {
   "cols": {
    "lenName": 16,
    "lenType": 16,
    "lenVar": 40
   },
   "kernels_config": {
    "python": {
     "delete_cmd_postfix": "",
     "delete_cmd_prefix": "del ",
     "library": "var_list.py",
     "varRefreshCmd": "print(var_dic_list())"
    },
    "r": {
     "delete_cmd_postfix": ") ",
     "delete_cmd_prefix": "rm(",
     "library": "var_list.r",
     "varRefreshCmd": "cat(var_dic_list()) "
    }
   },
   "types_to_exclude": [
    "module",
    "function",
    "builtin_function_or_method",
    "instance",
    "_Feature"
   ],
   "window_display": false
  }
 },
 "nbformat": 4,
 "nbformat_minor": 2
}
